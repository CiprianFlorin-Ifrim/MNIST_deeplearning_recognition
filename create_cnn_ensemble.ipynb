{
 "cells": [
  {
   "cell_type": "code",
   "execution_count": 1,
   "id": "0577ddec",
   "metadata": {},
   "outputs": [
    {
     "name": "stderr",
     "output_type": "stream",
     "text": [
      "C:\\Users\\cipri\\AppData\\Local\\Temp\\ipykernel_15688\\4283796252.py:2: DeprecationWarning: Importing display from IPython.core.display is deprecated since IPython 7.14, please import from IPython display\n",
      "  from IPython.core.display import display, HTML\n"
     ]
    },
    {
     "data": {
      "text/html": [
       "<style>.container { width:100% !important; }</style>"
      ],
      "text/plain": [
       "<IPython.core.display.HTML object>"
      ]
     },
     "metadata": {},
     "output_type": "display_data"
    }
   ],
   "source": [
    "#change width of Jupyer Notebook to use the whole window\n",
    "from IPython.core.display import display, HTML                                    \n",
    "display(HTML(\"<style>.container { width:100% !important; }</style>\"))     "
   ]
  },
  {
   "cell_type": "code",
   "execution_count": 2,
   "id": "15cf1bb6",
   "metadata": {},
   "outputs": [],
   "source": [
    "# load libraries\n",
    "import tensorflow.keras\n",
    "import tensorflow as tf\n",
    "import numpy as np\n",
    "from keras.utils.vis_utils import plot_model\n",
    "from tensorflow.python.client import device_lib\n",
    "from numba import cuda"
   ]
  },
  {
   "cell_type": "code",
   "execution_count": 3,
   "id": "4913e022",
   "metadata": {},
   "outputs": [
    {
     "name": "stdout",
     "output_type": "stream",
     "text": [
      "INFO:tensorflow:Mixed precision compatibility check (mixed_float16): OK\n",
      "Your GPU will likely run quickly with dtype policy mixed_float16 as it has compute capability of at least 7.0. Your GPU: NVIDIA GeForce RTX 4090, compute capability 8.9\n",
      "WARNING:tensorflow:Compiled the loaded model, but the compiled metrics have yet to be built. `model.compile_metrics` will be empty until you train or evaluate the model.\n"
     ]
    }
   ],
   "source": [
    "# Load the model\n",
    "cnn_model_1 = tensorflow.keras.models.load_model('trained_models/cnn_trained_mnist_99.56.h5', compile=False)\n",
    "cnn_model_2 = tensorflow.keras.models.load_model('trained_models/cnn_trained_mnist_99.67.h5', compile=False)\n",
    "cnn_model_3 = tensorflow.keras.models.load_model('trained_models/cnn_trained_mnist_99.68.h5', compile=False)\n",
    "cnn_model_1._name, cnn_model_2._name = 'cnn_model_1', 'cnn_model_2'\n",
    "cnn_model_3._name = 'cnn_model_3'\n",
    "\n",
    "# define input and output layers\n",
    "model_input = tf.keras.Input(shape=(28, 28, 1))            #<---- to be changed\n",
    "models = [cnn_model_1, cnn_model_2, cnn_model_3]\n",
    "model_outputs = [model(model_input) for model in models]\n",
    "\n",
    "# create ensemble architecture\n",
    "ensemble_output = tf.keras.layers.Average()(model_outputs)\n",
    "ensemble_model = tf.keras.Model(inputs=model_input, outputs=ensemble_output)\n",
    "\n",
    "# visualise the architecture\n",
    "plot_model(ensemble_model, to_file='model_plot.png', show_shapes=True, show_layer_names=True)\n",
    "\n",
    "# save the model as an h5 file\n",
    "ensemble_model.save('trained_models/cnn_ensemble_mnist.h5')"
   ]
  },
  {
   "cell_type": "code",
   "execution_count": 4,
   "id": "cfcf7efa",
   "metadata": {},
   "outputs": [],
   "source": [
    "# release allocated resources after termination\n",
    "tf.keras.backend.clear_session()\n",
    "cuda.select_device(0)\n",
    "cuda.close()"
   ]
  }
 ],
 "metadata": {
  "kernelspec": {
   "display_name": "gpu-venv",
   "language": "python",
   "name": "gpu-venv"
  },
  "language_info": {
   "codemirror_mode": {
    "name": "ipython",
    "version": 3
   },
   "file_extension": ".py",
   "mimetype": "text/x-python",
   "name": "python",
   "nbconvert_exporter": "python",
   "pygments_lexer": "ipython3",
   "version": "3.10.9"
  }
 },
 "nbformat": 4,
 "nbformat_minor": 5
}
