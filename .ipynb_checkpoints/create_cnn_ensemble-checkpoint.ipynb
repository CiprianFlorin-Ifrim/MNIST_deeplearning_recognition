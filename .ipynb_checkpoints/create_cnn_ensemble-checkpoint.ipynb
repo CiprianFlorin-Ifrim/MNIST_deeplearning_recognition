{
 "cells": [
  {
   "cell_type": "code",
   "execution_count": null,
   "id": "15cf1bb6",
   "metadata": {},
   "outputs": [],
   "source": [
    "# load libraries\n",
    "import tensorflow.keras\n",
    "import tensorflow as tf\n",
    "import numpy as np"
   ]
  },
  {
   "cell_type": "code",
   "execution_count": null,
   "id": "4913e022",
   "metadata": {},
   "outputs": [],
   "source": [
    "# Load the model\n",
    "cnn_model_1 = tensorflow.keras.models.load_model('trained_models/model1.h5', compile=False)\n",
    "cnn_model_2 = tensorflow.keras.models.load_model('trained_models/model2.h5', compile=False)\n",
    "models = [cnn_model_1, cnn_model_2]\n",
    "\n",
    "# define input and output layers\n",
    "model_input = tf.keras.Input(shape=(125, 125, 3))            #<---- to be changed\n",
    "model_outputs = [model(model_input) for model in models]\n",
    "\n",
    "# create ensemble architecture\n",
    "ensemble_output = tf.keras.layers.Average()(model_outputs)\n",
    "ensemble_model = tf.keras.Model(inputs=model_input, outputs=ensemble_output)\n",
    "\n",
    "# visualise the architecture\n",
    "plot_model(model, to_file='model_plot.png', show_shapes=True, show_layer_names=True)\n",
    "\n",
    "# save the model as an h5 file\n",
    "ensemble_model.save('trained_models/cnn_ensemble_mnist.h5')"
   ]
  }
 ],
 "metadata": {
  "kernelspec": {
   "display_name": "gpu-venv",
   "language": "python",
   "name": "gpu-venv"
  },
  "language_info": {
   "codemirror_mode": {
    "name": "ipython",
    "version": 3
   },
   "file_extension": ".py",
   "mimetype": "text/x-python",
   "name": "python",
   "nbconvert_exporter": "python",
   "pygments_lexer": "ipython3",
   "version": "3.10.9"
  }
 },
 "nbformat": 4,
 "nbformat_minor": 5
}
